{
 "cells": [
  {
   "cell_type": "markdown",
   "metadata": {},
   "source": [
    "## Quicksort in Python\n"
   ]
  },
  {
   "cell_type": "code",
   "execution_count": 16,
   "metadata": {
    "collapsed": false
   },
   "outputs": [],
   "source": [
    "# quicksort via recursion\n",
    "\n",
    "# suppose list = [10, 0, 4, 6, 7, 8, 4]\n",
    "\n",
    "test = [10, 0, 4, 6, 7, 8, 5]\n",
    "\n",
    "import numpy as np\n",
    "\n",
    "def quicksort(list, low, high):\n",
    "    # when low and high pivot same (list of one element)\n",
    "    if ((high - low) > 0):\n",
    "        pivot = partition(list, low, high)\n",
    "        quicksort(list, low, pivot-1)\n",
    "        quicksort(list, pivot+1, high)\n",
    "\n",
    "def partition(list, low, high):\n",
    "    # set barrier\n",
    "    barrier = low\n",
    "    stop = high\n",
    "    \n",
    "    for i in range(low, high):\n",
    "        if (list[i] < list[stop]):\n",
    "            list[i], list[barrier] = list[barrier], list[i]\n",
    "            # increment\n",
    "            barrier += 1\n",
    "    \n",
    "    list[stop], list[barrier] = list[barrier], list[stop]\n",
    "    \n",
    "    array = np.asarray(barrier);\n",
    "    print array\n",
    "\n",
    "    return barrier;"
   ]
  }
 ],
 "metadata": {
  "kernelspec": {
   "display_name": "Python 2",
   "language": "python",
   "name": "python2"
  },
  "language_info": {
   "codemirror_mode": {
    "name": "ipython",
    "version": 2
   },
   "file_extension": ".py",
   "mimetype": "text/x-python",
   "name": "python",
   "nbconvert_exporter": "python",
   "pygments_lexer": "ipython2",
   "version": "2.7.11"
  }
 },
 "nbformat": 4,
 "nbformat_minor": 0
}
